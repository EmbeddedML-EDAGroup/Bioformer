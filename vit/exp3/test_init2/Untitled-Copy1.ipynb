{
 "cells": [
  {
   "cell_type": "code",
   "execution_count": 1,
   "metadata": {},
   "outputs": [],
   "source": [
    "from pickle import load\n",
    "\n",
    "configs, n_params_, runs_ = load(open('results_4.pickle', 'rb'))"
   ]
  },
  {
   "cell_type": "code",
   "execution_count": 2,
   "metadata": {},
   "outputs": [
    {
     "data": {
      "text/plain": [
       "[{'channels': 14,\n",
       "  'depth': 8,\n",
       "  'dim': 64,\n",
       "  'dim_head': 64,\n",
       "  'dropout': 0.2,\n",
       "  'emb_dropout': 0,\n",
       "  'heads': 2,\n",
       "  'image_size': (1, 300),\n",
       "  'num_classes': 8,\n",
       "  'optim_strategy': 'Adam:lr=1e-3,wd=0;StepLR:step=50,gamma=.5',\n",
       "  'patch_size': (1, 20),\n",
       "  'pool': 'cls',\n",
       "  'sessions': 5,\n",
       "  'use_cls_token': True,\n",
       "  'mlp_dim': 128},\n",
       " {'channels': 14,\n",
       "  'depth': 8,\n",
       "  'dim': 64,\n",
       "  'dim_head': 64,\n",
       "  'dropout': 0.2,\n",
       "  'emb_dropout': 0,\n",
       "  'heads': 2,\n",
       "  'image_size': (1, 300),\n",
       "  'num_classes': 8,\n",
       "  'optim_strategy': 'Adam:wd=0;CyclicLR:base_lr=1e-7,max_lr=1e-3,step_size_up=100,step_size_down=None,mode=triangular',\n",
       "  'patch_size': (1, 20),\n",
       "  'pool': 'cls',\n",
       "  'sessions': 5,\n",
       "  'use_cls_token': True,\n",
       "  'mlp_dim': 128}]"
      ]
     },
     "execution_count": 2,
     "metadata": {},
     "output_type": "execute_result"
    }
   ],
   "source": [
    "configs"
   ]
  },
  {
   "cell_type": "code",
   "execution_count": 3,
   "metadata": {},
   "outputs": [],
   "source": [
    "import pandas as pd\n",
    "\n",
    "run_warmup = runs_[1][0]\n",
    "losses_accs_df_w = pd.DataFrame(run_warmup['losses_accs'])\n",
    "\n",
    "run_fixed = runs_[0][0]\n",
    "losses_accs_df_f = pd.DataFrame(run_fixed['losses_accs'])"
   ]
  },
  {
   "cell_type": "code",
   "execution_count": 4,
   "metadata": {},
   "outputs": [
    {
     "data": {
      "text/plain": [
       "<Figure size 1600x800 with 4 Axes>"
      ]
     },
     "metadata": {},
     "output_type": "display_data"
    }
   ],
   "source": [
    "import matplotlib.pyplot as plt\n",
    "\n",
    "fig, axes = plt.subplots(figsize=(16, 8), nrows=2, ncols=2)\n",
    "\n",
    "#print(model_config)\n",
    "#print(\"parametri:\", f\"{n_params / 1e3:.2f}k\")\n",
    "\n",
    "ax = axes[0, :]\n",
    "ax[0].plot(losses_accs_df_w['train_acc'], label='train_acc')\n",
    "ax[0].plot(losses_accs_df_w['val_acc'], label='val_acc')\n",
    "ax[0].plot(losses_accs_df_w['test_acc'], label='test_acc')\n",
    "ax[0].grid(True)\n",
    "ax[0].legend()\n",
    "ax[0].set_title('Warmup')\n",
    "\n",
    "ax[1].plot(losses_accs_df_f['train_acc'], label='train_acc')\n",
    "ax[1].plot(losses_accs_df_f['val_acc'], label='val_acc')\n",
    "ax[1].plot(losses_accs_df_f['test_acc'], label='test_acc')\n",
    "ax[1].grid(True)\n",
    "ax[1].legend()\n",
    "ax[1].set_title('Fisso 1e-3 dimezzato ogni 50')\n",
    "ax[0].set_ylim([.4, 1])\n",
    "ax[1].set_ylim([.4, 1])\n",
    "\n",
    "ax = axes[1, :]\n",
    "ax[0].plot(losses_accs_df_w['train_loss'], label='train_loss')\n",
    "ax[0].plot(losses_accs_df_w['val_loss'], label='val_loss')\n",
    "ax[0].plot(losses_accs_df_w['test_loss'], label='test_loss')\n",
    "ax[0].grid(True)\n",
    "ax[0].legend()\n",
    "\n",
    "ax[1].plot(losses_accs_df_f['train_loss'], label='train_loss')\n",
    "ax[1].plot(losses_accs_df_f['val_loss'], label='val_loss')\n",
    "ax[1].plot(losses_accs_df_f['test_loss'], label='test_loss')\n",
    "ax[1].grid(True)\n",
    "ax[1].legend()\n",
    "ax[0].set_ylim([0, 2.75])\n",
    "ax[1].set_ylim([0, 2.75])\n",
    "\n",
    "\n",
    "plt.show()\n",
    "None"
   ]
  },
  {
   "cell_type": "code",
   "execution_count": 5,
   "metadata": {},
   "outputs": [
    {
     "data": {
      "text/plain": [
       "(0.6325831413269043, 79)"
      ]
     },
     "execution_count": 5,
     "metadata": {},
     "output_type": "execute_result"
    }
   ],
   "source": [
    "losses_accs_df_f['val_acc'].max(), losses_accs_df_f['val_acc'].argmax()"
   ]
  },
  {
   "cell_type": "code",
   "execution_count": 6,
   "metadata": {},
   "outputs": [
    {
     "data": {
      "text/plain": [
       "(0.6519665122032166, 168)"
      ]
     },
     "execution_count": 6,
     "metadata": {},
     "output_type": "execute_result"
    }
   ],
   "source": [
    "losses_accs_df_w['val_acc'].max(), losses_accs_df_w['val_acc'].argmax()"
   ]
  },
  {
   "cell_type": "code",
   "execution_count": 7,
   "metadata": {},
   "outputs": [],
   "source": [
    "preds_w = pd.DataFrame(run_warmup['y']['preds'])"
   ]
  },
  {
   "cell_type": "code",
   "execution_count": 9,
   "metadata": {},
   "outputs": [
    {
     "name": "stdout",
     "output_type": "stream",
     "text": [
      "Distribuzione delle probabilità massime (cioè delle probabilità delle classi predette)\n",
      "EPOCA: 100\n"
     ]
    },
    {
     "data": {
      "image/png": "[encoded data removed]",
      "text/plain": [
       "<Figure size 864x288 with 2 Axes>"
      ]
     },
     "metadata": {
      "needs_background": "light"
     },
     "output_type": "display_data"
    },
    {
     "name": "stdout",
     "output_type": "stream",
     "text": [
      "EPOCA: 200\n"
     ]
    },
    {
     "data": {
      "image/png": "[encoded data removed]",
      "text/plain": [
       "<Figure size 864x288 with 2 Axes>"
      ]
     },
     "metadata": {
      "needs_background": "light"
     },
     "output_type": "display_data"
    }
   ],
   "source": [
    "import torch.nn as nn\n",
    "\n",
    "softmax = nn.Softmax(dim=-1)\n",
    "\n",
    "print(\"Distribuzione delle probabilità massime (cioè delle probabilità delle classi predette)\")\n",
    "\n",
    "for epoch in [99, 199]:\n",
    "    print(\"EPOCA:\", epoch + 1)\n",
    "    probs = softmax(run_warmup['y']['preds'][epoch]['scores_val'])\n",
    "    correct = run_warmup['y']['trues']['y_true_val'] == run_warmup['y']['preds'][epoch]['y_pred_val']\n",
    "\n",
    "    probs_correct_dist = probs[correct, :].max(axis=1).values\n",
    "    probs_wrong_dist = probs[~correct, :].max(axis=1).values\n",
    "\n",
    "    import matplotlib.pyplot as plt\n",
    "\n",
    "    fig, ax = plt.subplots(figsize=(12, 4), ncols=2)\n",
    "\n",
    "    _ = ax[0].hist(probs_correct_dist.numpy(), bins=100)\n",
    "    ax[0].set_title(\"Prob classe predetta se la classe predetta è quella giusta\")\n",
    "    _ = ax[1].hist(probs_wrong_dist.numpy(), bins=100)\n",
    "    ax[1].set_title(\"Prob classe predetta se la classe predetta è sbagliata\")\n",
    "\n",
    "    plt.show()"
   ]
  }
 ],
 "metadata": {
  "kernelspec": {
   "display_name": "Python 3",
   "language": "python",
   "name": "python3"
  },
  "language_info": {
   "codemirror_mode": {
    "name": "ipython",
    "version": 3
   },
   "file_extension": ".py",
   "mimetype": "text/x-python",
   "name": "python",
   "nbconvert_exporter": "python",
   "pygments_lexer": "ipython3",
   "version": "3.7.5"
  }
 },
 "nbformat": 4,
 "nbformat_minor": 2
}
