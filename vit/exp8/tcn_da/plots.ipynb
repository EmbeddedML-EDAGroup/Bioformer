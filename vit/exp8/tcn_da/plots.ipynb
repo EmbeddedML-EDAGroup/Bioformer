{
 "cells": [
  {
   "cell_type": "code",
   "execution_count": 1,
   "metadata": {},
   "outputs": [
    {
     "name": "stdout",
     "output_type": "stream",
     "text": [
      "{'pretrained': None, 'sessions': 5, 'subjects': 2, 'training_config': {'epochs': 20, 'batch_size': 64, 'optim': 'SGD', 'optim_hparams': {'lr': 0.001, 'momentum': 0.9, 'dampening': 0, 'weight_decay': 0}, 'lr_scheduler': 'MultiStepLR', 'lr_scheduler_hparams': {'milestones': [9, 19], 'gamma': 0.1}}}\n",
      "\n"
     ]
    }
   ],
   "source": [
    "import glob\n",
    "from pickle import load\n",
    "trainings = list()\n",
    "filelist = list(glob.glob('results_*.pickle'))\n",
    "for file in filelist:\n",
    "    trainings.append(load(open(file, 'rb')))\n",
    "    \n",
    "for configs, _ in trainings:\n",
    "    print(configs[0])\n",
    "    print()"
   ]
  },
  {
   "cell_type": "code",
   "execution_count": 2,
   "metadata": {
    "scrolled": false
   },
   "outputs": [
    {
     "data": {
      "image/png": "[encoded data removed]",
      "text/plain": [
       "<Figure size 1008x288 with 2 Axes>"
      ]
     },
     "metadata": {
      "needs_background": "light"
     },
     "output_type": "display_data"
    },
    {
     "name": "stdout",
     "output_type": "stream",
     "text": [
      "0.6619757777452469\n"
     ]
    }
   ],
   "source": [
    "# Problemi:\n",
    "# - preso modello ultima epoca e non il migliore\n",
    "# - val acc calcolata sempre su steady e non anche su non steady\n",
    "import numpy as np\n",
    "import matplotlib as mpl\n",
    "import matplotlib.pyplot as plt\n",
    "\n",
    "heads = [2, 4, 8]\n",
    "depth = [1, 2, 4, 8,]\n",
    "\n",
    "#scores_val = np.zeros((3, 4))\n",
    "#scores_test = np.zeros((3, 4))\n",
    "\n",
    "scores_val = 0\n",
    "scores_test = 0\n",
    "\n",
    "for configs, results_ in trainings:\n",
    "    \n",
    "    acccs = []\n",
    "    acccs_steady = []\n",
    "    \n",
    "    mpl.rcParams['axes.prop_cycle'] = mpl.cycler(\"color\", [\"#000000\", '#000000'])\n",
    "    fix, (ax1, ax2) = plt.subplots(figsize=(14, 4), ncols=2)\n",
    "    ax1.grid(True)\n",
    "    ax2.grid(True)\n",
    "    ax1.set_title(\"Test on steady+transient\")\n",
    "    ax2.set_title(\"Test on steady\")\n",
    "    \n",
    "    chosen_config = None\n",
    "    \n",
    "    for n_idx, (config, r) in enumerate(zip(configs, results_)):\n",
    "                \n",
    "        #if config[\"pretrained\"] != pretraining:\n",
    "        #    continue\n",
    "        \n",
    "                        \n",
    "        chosen_config = config\n",
    "\n",
    "        accs = np.array([0] * len(r['test_sessions']), dtype=float)\n",
    "        for i, (y_pred, y_true) in enumerate(zip(r['val-fold_0']['y_preds'], r['val-fold_0']['y_trues'])):\n",
    "            accs[i] += (y_pred == y_true).sum().float() / len(y_true)\n",
    "        for i, (y_pred, y_true) in enumerate(zip(r['val-fold_1']['y_preds'], r['val-fold_1']['y_trues'])):\n",
    "            accs[i] += (y_pred == y_true).sum().float() / len(y_true)\n",
    "        accs /= 2\n",
    "\n",
    "        accs_steady = np.array([0] * len(r['test_sessions']), dtype=float)\n",
    "        for i, (y_pred, y_true) in enumerate(zip(r['val-fold_0']['y_preds_steady'], r['val-fold_0']['y_trues_steady'])):\n",
    "            accs_steady[i] += (y_pred == y_true).sum().float() / len(y_true)\n",
    "        for i, (y_pred, y_true) in enumerate(zip(r['val-fold_1']['y_preds_steady'], r['val-fold_1']['y_trues_steady'])):\n",
    "            accs_steady[i] += (y_pred == y_true).sum().float() / len(y_true)\n",
    "        accs_steady /= 2\n",
    "\n",
    "        acc_val = .5 * r['val-fold_0']['losses_accs'][-1]['val_acc'] + .5 * r['val-fold_1']['losses_accs'][-1]['val_acc']\n",
    "        #acc_val =  r['val-fold_0']['losses_accs'][-1]['val_acc']\n",
    "\n",
    "        y = [acc_val] + [a for a in accs]\n",
    "        acccs.append(y)\n",
    "\n",
    "        y = [acc_val] + [a for a in accs_steady]\n",
    "        acccs_steady.append(y)\n",
    "                \n",
    "\n",
    "    acccs = np.array(acccs).mean(axis=0)\n",
    "    acccs_steady = np.array(acccs_steady).mean(axis=0)\n",
    "\n",
    "    x = [r['test_sessions'][0]] + [a for a in np.array(r['test_sessions']) + 1]\n",
    "    y1 = [a for a in acccs]\n",
    "    y2 = [a for a in acccs_steady]\n",
    "    m = ['d'] + (['o'] * (len(x) - 1))\n",
    "    s = [200] + [50] * (len(x) - 1)\n",
    "\n",
    "    ax1.plot(x, y1, color=f'C{n_idx}')\n",
    "    for xp, yp, m_, s_ in zip(x, y1, m, s):\n",
    "        ax1.scatter([xp],[float(yp)], marker=m_, s=s_, color=f'C{n_idx}')\n",
    "\n",
    "    ax2.plot(x, y2, color=f'C{n_idx}')\n",
    "    for xp, yp, m_, s_ in zip(x, y2, m, s):\n",
    "        ax2.scatter([xp],[float(yp)], marker=m_, s=s_, color=f'C{n_idx}')\n",
    "        \n",
    "        \n",
    "    (min1, max1), (min2, max2) = ax1.get_ylim(), ax2.get_ylim()\n",
    "    min_ = min(min1, min2)\n",
    "    max_ = max(max1, max2)\n",
    "    ax1.set_ylim((min_, max_))\n",
    "    ax2.set_ylim((min_, max_))\n",
    "\n",
    "    ax1.xaxis.set_major_locator(mpl.ticker.MultipleLocator(1))\n",
    "    ax2.xaxis.set_major_locator(mpl.ticker.MultipleLocator(1))\n",
    "    ax1.set_xlabel(\"session\")\n",
    "    ax2.set_xlabel(\"session\")\n",
    "    ax1.set_ylabel(\"accuracy\")\n",
    "\n",
    "    \n",
    "    scores_val = acccs_steady[0]\n",
    "    scores_test = np.array(acccs_steady)[1:].mean()\n",
    "    \n",
    "    plt.show()\n",
    "    \n",
    "    print(scores_test)"
   ]
  }
 ],
 "metadata": {
  "kernelspec": {
   "display_name": "Python 3",
   "language": "python",
   "name": "python3"
  },
  "language_info": {
   "codemirror_mode": {
    "name": "ipython",
    "version": 3
   },
   "file_extension": ".py",
   "mimetype": "text/x-python",
   "name": "python",
   "nbconvert_exporter": "python",
   "pygments_lexer": "ipython3",
   "version": "3.7.5"
  }
 },
 "nbformat": 4,
 "nbformat_minor": 2
}
