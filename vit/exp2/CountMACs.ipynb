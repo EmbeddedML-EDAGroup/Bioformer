{
 "cells": [
  {
   "cell_type": "code",
   "execution_count": 1,
   "metadata": {},
   "outputs": [],
   "source": [
    "def attention_head(n_tokens, dim, dim_head):\n",
    "    macs = 0\n",
    "    \n",
    "    # token -> k, q, v\n",
    "    macs += n_tokens * 3 * dim * dim_head\n",
    "    \n",
    "    # q * k'\n",
    "    # (n_tokens, dim_head) * (dim_head, n_tokens) -> (n_tokens, n_tokens)\n",
    "    macs += n_tokens * dim_head * n_tokens\n",
    "    \n",
    "    # Softmax e diviso sqrt(dim_head) \n",
    "    # ...\n",
    "    \n",
    "    # (q * k') * v\n",
    "    # (n_tokens, n_tokens) * (n_tokens, dim_head) -> (n_tokens, dim_head)\n",
    "    macs += n_tokens * n_tokens * dim_head\n",
    "    \n",
    "    return macs\n",
    "    \n",
    "def attention(n_tokens, dim, dim_head, n_heads):\n",
    "    macs = 0\n",
    "    \n",
    "    macs += n_heads * attention_head(n_tokens, dim, dim_head)\n",
    "    \n",
    "    # Riporta gli z concatenati a dimensione dim\n",
    "    macs += n_tokens * (dim_head * n_heads) * dim if not (n_heads == 1 and dim_head == dim) else 0\n",
    "    \n",
    "    return macs"
   ]
  },
  {
   "cell_type": "code",
   "execution_count": 2,
   "metadata": {},
   "outputs": [],
   "source": [
    "def feed_forward(n_tokens, dim, mlp_dim):\n",
    "    # 2 Linear: dim -> mlp_dim, mlp_dim -> dim\n",
    "    return n_tokens * dim * mlp_dim * 2"
   ]
  },
  {
   "cell_type": "code",
   "execution_count": 3,
   "metadata": {},
   "outputs": [
    {
     "data": {
      "text/plain": [
       "0.19008264462809918"
      ]
     },
     "execution_count": 3,
     "metadata": {},
     "output_type": "execute_result"
    }
   ],
   "source": [
    "a = attention(n_tokens=15, dim=14*20, dim_head=32, n_heads=2)\n",
    "ff = feed_forward(n_tokens=15, dim=14*20, mlp_dim=14*20*2)\n",
    "a / (a+ff)"
   ]
  },
  {
   "cell_type": "code",
   "execution_count": 4,
   "metadata": {},
   "outputs": [
    {
     "data": {
      "text/plain": [
       "0.5276752767527675"
      ]
     },
     "execution_count": 4,
     "metadata": {},
     "output_type": "execute_result"
    }
   ],
   "source": [
    "a = attention(n_tokens=15, dim=64, dim_head=32, n_heads=2)\n",
    "ff = feed_forward(n_tokens=15, dim=64, mlp_dim=128)\n",
    "a / (a+ff)"
   ]
  },
  {
   "cell_type": "code",
   "execution_count": 5,
   "metadata": {},
   "outputs": [],
   "source": [
    "def transformer(n_tokens, dim, dim_head, n_heads, mlp_dim, depth):\n",
    "    return depth * (attention(n_tokens, dim, dim_head, n_heads) + feed_forward(n_tokens, dim, mlp_dim))"
   ]
  },
  {
   "cell_type": "code",
   "execution_count": 6,
   "metadata": {},
   "outputs": [],
   "source": [
    "def vit(patch_size, dim, dim_head, n_heads, mlp_dim, depth):\n",
    "    macs = 0\n",
    "    \n",
    "    n_tokens = 300 // patch_size\n",
    "    \n",
    "    # linear embedding\n",
    "    macs += n_tokens * (14 * patch_size) * dim\n",
    "    \n",
    "    # +1 perché c'è cls_token\n",
    "    macs += transformer(n_tokens + 1, dim, dim_head, n_heads, mlp_dim, depth)\n",
    "    \n",
    "    # output\n",
    "    # Da mean o last token a class_scores\n",
    "    macs += dim * 8\n",
    "    \n",
    "    return macs"
   ]
  },
  {
   "cell_type": "code",
   "execution_count": 7,
   "metadata": {},
   "outputs": [
    {
     "data": {
      "text/plain": [
       "1.973248"
      ]
     },
     "execution_count": 7,
     "metadata": {},
     "output_type": "execute_result"
    }
   ],
   "source": [
    "vit(patch_size=20, dim=64, dim_head=32, n_heads=8, mlp_dim=256, depth=1) / 1e6"
   ]
  },
  {
   "cell_type": "code",
   "execution_count": 13,
   "metadata": {},
   "outputs": [
    {
     "data": {
      "text/plain": [
       "8.171008"
      ]
     },
     "execution_count": 13,
     "metadata": {},
     "output_type": "execute_result"
    }
   ],
   "source": [
    "vit(patch_size=5, dim=64, dim_head=32, n_heads=8, mlp_dim=256, depth=1) / 1e6"
   ]
  },
  {
   "cell_type": "code",
   "execution_count": 12,
   "metadata": {},
   "outputs": [
    {
     "data": {
      "text/plain": [
       "3.808768"
      ]
     },
     "execution_count": 12,
     "metadata": {},
     "output_type": "execute_result"
    }
   ],
   "source": [
    "vit(patch_size=10, dim=64, dim_head=32, n_heads=8, mlp_dim=256, depth=1) / 1e6"
   ]
  },
  {
   "cell_type": "code",
   "execution_count": null,
   "metadata": {},
   "outputs": [],
   "source": [
    "vit(patch_size=10, dim=64, dim_head=32, n_heads=8, mlp_dim=256, depth=1) / 1e6"
   ]
  },
  {
   "cell_type": "code",
   "execution_count": 82,
   "metadata": {},
   "outputs": [
    {
     "data": {
      "text/plain": [
       "6.961152"
      ]
     },
     "execution_count": 82,
     "metadata": {},
     "output_type": "execute_result"
    }
   ],
   "source": [
    "vit(patch_size=20, dim=128, dim_head=32, n_heads=2, mlp_dim=256, depth=4) / 1e6"
   ]
  },
  {
   "cell_type": "code",
   "execution_count": 17,
   "metadata": {},
   "outputs": [
    {
     "data": {
      "image/png": "[encoded data removed]",
      "text/plain": [
       "<Figure size 432x288 with 1 Axes>"
      ]
     },
     "metadata": {
      "needs_background": "light"
     },
     "output_type": "display_data"
    }
   ],
   "source": [
    "import matplotlib.pyplot as plt\n",
    "\n",
    "patches = [1, 3, 5, 10, 15, 20, 30, 50, 75, 100, 150, 300]\n",
    "\n",
    "plt.plot(list(map(str, patches)), [vit(patch_size=p, dim=14*20, dim_head=64, n_heads=2, mlp_dim=14*10*4, depth=8) / 1e6 for p in patches], marker='o')\n",
    "plt.grid()\n",
    "plt.show()"
   ]
  },
  {
   "cell_type": "code",
   "execution_count": 39,
   "metadata": {},
   "outputs": [
    {
     "data": {
      "image/png": "[encoded data removed]",
      "text/plain": [
       "<Figure size 432x288 with 1 Axes>"
      ]
     },
     "metadata": {
      "needs_background": "light"
     },
     "output_type": "display_data"
    }
   ],
   "source": [
    "plt.plot(list(map(str, [2, 4, 8])), [vit(patch_size=20, dim=64, dim_head=32, n_heads=h, mlp_dim=128, depth=8,) / 1e6 for h in [2, 4, 8]], color='C0', marker='o')\n",
    "plt.plot(list(map(str, [2, 4, 8])), [vit(patch_size=20, dim=64, dim_head=64, n_heads=h, mlp_dim=128, depth=8,) / 1e6 for h in [2, 4, 8]], color='C1', marker='o')\n",
    "plt.plot(list(map(str, [2, 4, 8])), [vit(patch_size=20, dim=64, dim_head=128, n_heads=h, mlp_dim=128, depth=8,) / 1e6 for h in [2, 4, 8]], color='C2', marker='o')\n",
    "\n",
    "plt.grid()\n",
    "plt.show()"
   ]
  },
  {
   "cell_type": "code",
   "execution_count": 40,
   "metadata": {},
   "outputs": [
    {
     "data": {
      "image/png": "[encoded data removed]",
      "text/plain": [
       "<Figure size 432x288 with 1 Axes>"
      ]
     },
     "metadata": {
      "needs_background": "light"
     },
     "output_type": "display_data"
    }
   ],
   "source": [
    "plt.plot(list(map(str, [2, 4, 8])), [vit(patch_size=20, dim=64, dim_head=32, n_heads=2, mlp_dim=128, depth=h) / 1e6 for h in [2, 4, 8]], marker='o')\n",
    "plt.plot(list(map(str, [2, 4, 8])), [vit(patch_size=20, dim=64, dim_head=64, n_heads=2, mlp_dim=128, depth=h) / 1e6 for h in [2, 4, 8]], marker='o')\n",
    "plt.plot(list(map(str, [2, 4, 8])), [vit(patch_size=20, dim=64, dim_head=128, n_heads=2, mlp_dim=128, depth=h) / 1e6 for h in [2, 4, 8]], marker='o')\n",
    "plt.grid()\n",
    "plt.xlabel('depth with 2 heads')\n",
    "plt.show()"
   ]
  },
  {
   "cell_type": "code",
   "execution_count": 20,
   "metadata": {},
   "outputs": [
    {
     "data": {
      "image/png": "[encoded data removed]",
      "text/plain": [
       "<Figure size 432x288 with 1 Axes>"
      ]
     },
     "metadata": {
      "needs_background": "light"
     },
     "output_type": "display_data"
    }
   ],
   "source": [
    "plt.plot(list(map(str, [2, 4, 8])), [vit(patch_size=20, dim=14*20, dim_head=32, n_heads=h, mlp_dim=14*10*4, depth=8) / 1e6 for h in [2, 4, 8]], marker='o')\n",
    "plt.plot(list(map(str, [2, 4, 8])), [vit(patch_size=20, dim=14*20, dim_head=64, n_heads=h, mlp_dim=14*10*4, depth=8) / 1e6 for h in [2, 4, 8]], marker='o')\n",
    "plt.plot(list(map(str, [2, 4, 8])), [vit(patch_size=20, dim=14*20, dim_head=128, n_heads=h, mlp_dim=14*10*4, depth=8) / 1e6 for h in [2, 4, 8]], marker='o')\n",
    "plt.grid()\n",
    "plt.show()"
   ]
  },
  {
   "cell_type": "code",
   "execution_count": 21,
   "metadata": {},
   "outputs": [
    {
     "data": {
      "image/png": "[encoded data removed]",
      "text/plain": [
       "<Figure size 432x288 with 1 Axes>"
      ]
     },
     "metadata": {
      "needs_background": "light"
     },
     "output_type": "display_data"
    }
   ],
   "source": [
    "plt.plot(list(map(str, [2, 4, 8])), [vit(patch_size=20, dim=14*20, dim_head=32, n_heads=2, mlp_dim=14*10*4, depth=h) / 1e6 for h in [2, 4, 8]], marker='o')\n",
    "plt.plot(list(map(str, [2, 4, 8])), [vit(patch_size=20, dim=14*20, dim_head=64, n_heads=2, mlp_dim=14*10*4, depth=h) / 1e6 for h in [2, 4, 8]], marker='o')\n",
    "plt.plot(list(map(str, [2, 4, 8])), [vit(patch_size=20, dim=14*20, dim_head=128, n_heads=2, mlp_dim=14*10*4, depth=h) / 1e6 for h in [2, 4, 8]], marker='o')\n",
    "plt.grid()\n",
    "plt.show()"
   ]
  },
  {
   "cell_type": "code",
   "execution_count": 40,
   "metadata": {},
   "outputs": [
    {
     "name": "stdout",
     "output_type": "stream",
     "text": [
      "\u001b[91m[WARN] Cannot find rule for <class 'einops.layers.torch.Rearrange'>. Treat it as zero Macs and zero Params.\u001b[00m\n",
      "[INFO] Register count_linear() for <class 'torch.nn.modules.linear.Linear'>.\n",
      "\u001b[91m[WARN] Cannot find rule for <class 'torch.nn.modules.container.Sequential'>. Treat it as zero Macs and zero Params.\u001b[00m\n",
      "[INFO] Register zero_ops() for <class 'torch.nn.modules.dropout.Dropout'>.\n",
      "\u001b[91m[WARN] Cannot find rule for <class 'torch.nn.modules.normalization.LayerNorm'>. Treat it as zero Macs and zero Params.\u001b[00m\n",
      "\u001b[91m[WARN] Cannot find rule for <class 'torch.nn.modules.activation.Softmax'>. Treat it as zero Macs and zero Params.\u001b[00m\n",
      "\u001b[91m[WARN] Cannot find rule for <class '__main__.Attention'>. Treat it as zero Macs and zero Params.\u001b[00m\n",
      "\u001b[91m[WARN] Cannot find rule for <class '__main__.PreNorm'>. Treat it as zero Macs and zero Params.\u001b[00m\n",
      "\u001b[91m[WARN] Cannot find rule for <class 'torch.nn.modules.activation.GELU'>. Treat it as zero Macs and zero Params.\u001b[00m\n",
      "\u001b[91m[WARN] Cannot find rule for <class '__main__.FeedForward'>. Treat it as zero Macs and zero Params.\u001b[00m\n",
      "\u001b[91m[WARN] Cannot find rule for <class 'torch.nn.modules.container.ModuleList'>. Treat it as zero Macs and zero Params.\u001b[00m\n",
      "\u001b[91m[WARN] Cannot find rule for <class '__main__.Transformer'>. Treat it as zero Macs and zero Params.\u001b[00m\n",
      "\u001b[91m[WARN] Cannot find rule for <class 'torch.nn.modules.linear.Identity'>. Treat it as zero Macs and zero Params.\u001b[00m\n",
      "\u001b[91m[WARN] Cannot find rule for <class '__main__.ViT'>. Treat it as zero Macs and zero Params.\u001b[00m\n"
     ]
    },
    {
     "data": {
      "text/plain": [
       "(1.842176, 0.117192)"
      ]
     },
     "execution_count": 40,
     "metadata": {},
     "output_type": "execute_result"
    }
   ],
   "source": [
    "net = ViT(\n",
    "        image_size = (1, 300),\n",
    "        patch_size = (1, 20),\n",
    "        channels = 14,\n",
    "        num_classes = 8,\n",
    "        dim = 64,\n",
    "        depth = 1,\n",
    "        heads = 8,\n",
    "        mlp_dim = 256,\n",
    "        dropout = 0.2,\n",
    "        emb_dropout = 0,\n",
    "        #pool = 'mean',\n",
    "        use_cls_token = True,\n",
    "        dim_head = 32\n",
    "    )\n",
    "\n",
    "from thop import profile\n",
    "macs, params = profile(net, inputs=(torch.randn(1, 14, 1, 300),))\n",
    "macs / 1e6, params / 1e6"
   ]
  },
  {
   "cell_type": "code",
   "execution_count": 36,
   "metadata": {},
   "outputs": [
    {
     "name": "stdout",
     "output_type": "stream",
     "text": [
      "[INFO] Register count_convNd() for <class 'torch.nn.modules.conv.Conv1d'>.\n",
      "[INFO] Register count_bn() for <class 'torch.nn.modules.batchnorm.BatchNorm1d'>.\n",
      "[INFO] Register zero_ops() for <class 'torch.nn.modules.activation.ReLU'>.\n",
      "[INFO] Register count_avgpool() for <class 'torch.nn.modules.pooling.AvgPool1d'>.\n",
      "\u001b[91m[WARN] Cannot find rule for <class 'torch.nn.modules.container.Sequential'>. Treat it as zero Macs and zero Params.\u001b[00m\n",
      "[INFO] Register count_linear() for <class 'torch.nn.modules.linear.Linear'>.\n",
      "[INFO] Register zero_ops() for <class 'torch.nn.modules.dropout.Dropout'>.\n",
      "\u001b[91m[WARN] Cannot find rule for <class '__main__.TEMPONet'>. Treat it as zero Macs and zero Params.\u001b[00m\n"
     ]
    },
    {
     "data": {
      "text/plain": [
       "(16.028672, 0.461512)"
      ]
     },
     "execution_count": 36,
     "metadata": {},
     "output_type": "execute_result"
    }
   ],
   "source": [
    "macs, params = profile(TEMPONet(n_classes=8), inputs=(torch.randn(1, 14, 300),))\n",
    "macs / 1e6, params / 1e6"
   ]
  },
  {
   "cell_type": "code",
   "execution_count": 79,
   "metadata": {},
   "outputs": [],
   "source": [
    "import numpy as np\n",
    "accs = np.array([[0.5938833, 0.62450203, 0.61895857, 0.61277847],\n",
    " [0.6231558,  0.63120369, 0.61634731, 0.61405905],\n",
    " [0.64266566, 0.62926408, 0.61910074, 0.61333098]])\n",
    "\n",
    "accs_hd = np.array([[0.58546341, 0.60936838, 0.60802253, 0.60279442],\n",
    " [0.61203811, 0.62331701, 0.61544706, 0.61644552],\n",
    " [0.63100353, 0.62733153, 0.61649075, 0.62221316]])"
   ]
  },
  {
   "cell_type": "code",
   "execution_count": 81,
   "metadata": {},
   "outputs": [
    {
     "name": "stdout",
     "output_type": "stream",
     "text": [
      "2 1 69.512 1.088512 0.5938833\n",
      "2 2 119.304 1.907712 0.62450203\n",
      "2 4 218.888 3.546112 0.61895857\n",
      "2 8 418.056 6.822912 0.61277847\n",
      "4 1 85.896 1.383424 0.6231558\n",
      "4 2 152.072 2.497536 0.63120369\n",
      "4 4 284.424 4.72576 0.61634731\n",
      "4 8 549.128 9.182208 0.61405905\n",
      "8 1 118.664 1.973248 0.64266566\n",
      "8 2 217.608 3.677184 0.62926408\n",
      "8 4 415.496 7.085056 0.61910074\n",
      "8 8 811.272 13.9008 0.61333098\n",
      " heads  depth  params [k]  macs [M]  test acc dropout=.2  test acc dropout=.5\n",
      "     2      1      69.512  1.088512            59.388330            58.546341\n",
      "     2      2     119.304  1.907712            62.450203            60.936838\n",
      "     2      4     218.888  3.546112            61.895857            60.802253\n",
      "     2      8     418.056  6.822912            61.277847            60.279442\n",
      "     4      1      85.896  1.383424            62.315580            61.203811\n",
      "     4      2     152.072  2.497536            63.120369            62.331701\n",
      "     4      4     284.424  4.725760            61.634731            61.544706\n",
      "     4      8     549.128  9.182208            61.405905            61.644552\n",
      "     8      1     118.664  1.973248            64.266566            63.100353\n",
      "     8      2     217.608  3.677184            62.926408            62.733153\n",
      "     8      4     415.496  7.085056            61.910074            61.649075\n",
      "     8      8     811.272 13.900800            61.333098            62.221316\n"
     ]
    }
   ],
   "source": [
    "heads = [2, 4, 8]\n",
    "depth = [1, 2, 4, 8,]\n",
    "\n",
    "x = []\n",
    "xx = []\n",
    "y = []\n",
    "\n",
    "import pandas as pd\n",
    "res = []\n",
    "\n",
    "for i in range(len(heads)):\n",
    "    for j in range(len(depth)):\n",
    "        \n",
    "        net = ViT(\n",
    "        image_size = (1, 300),\n",
    "        patch_size = (1, 20),\n",
    "        channels = 14,\n",
    "        num_classes = 8,\n",
    "        dim = 64,\n",
    "        depth = depth[j],\n",
    "        heads = heads[i],\n",
    "        mlp_dim = 256,\n",
    "        dropout = 0.2,\n",
    "        emb_dropout = 0,\n",
    "        #pool = 'mean',\n",
    "        use_cls_token = True,\n",
    "        dim_head = 32\n",
    "        )\n",
    "        \n",
    "        n_params = sum([param.nelement() for param in net.parameters()]) / 10**3\n",
    "        n_macs = vit(patch_size=20, dim=64, dim_head=32, n_heads=heads[i], mlp_dim=256, depth=depth[j]) / 1e6\n",
    "        \n",
    "        print(heads[i], depth[j], n_params, n_macs, accs[i, j])\n",
    "        \n",
    "        res.append({\"heads\": heads[i], \"depth\": depth[j], \"params [k]\": n_params, \"macs [M]\": n_macs, \"test acc dropout=.2\": accs[i,j] * 100, \"test acc dropout=.5\": accs_hd[i,j] * 100})\n",
    "        \n",
    "        x.append(n_params)\n",
    "        xx.append(n_macs)\n",
    "        y.append(accs[i, j])\n",
    "    \n",
    "print(pd.DataFrame(res).to_string(index=False))"
   ]
  },
  {
   "cell_type": "code",
   "execution_count": 78,
   "metadata": {},
   "outputs": [
    {
     "data": {
      "image/png": "[encoded data removed]",
      "text/plain": [
       "<Figure size 432x288 with 1 Axes>"
      ]
     },
     "metadata": {
      "needs_background": "light"
     },
     "output_type": "display_data"
    },
    {
     "data": {
      "image/png": "[encoded data removed]",
      "text/plain": [
       "<Figure size 432x288 with 1 Axes>"
      ]
     },
     "metadata": {
      "needs_background": "light"
     },
     "output_type": "display_data"
    }
   ],
   "source": [
    "import matplotlib.pyplot as plt\n",
    "\n",
    "plt.scatter(x, y)\n",
    "plt.xlabel(\"Params [k]\")\n",
    "plt.ylabel(\"Accuracy\")\n",
    "plt.grid()\n",
    "plt.show()\n",
    "plt.scatter(xx, y)\n",
    "plt.xlabel(\"MACs [M]\")\n",
    "plt.ylabel(\"Accuracy\")\n",
    "plt.grid()\n",
    "None"
   ]
  },
  {
   "cell_type": "code",
   "execution_count": 21,
   "metadata": {},
   "outputs": [],
   "source": [
    "import torch\n",
    "from torch import nn, einsum\n",
    "import torch.nn.functional as F\n",
    "\n",
    "from einops import rearrange, repeat\n",
    "from einops.layers.torch import Rearrange\n",
    "\n",
    "# helpers\n",
    "\n",
    "def pair(t):\n",
    "    return t if isinstance(t, tuple) else (t, t)\n",
    "\n",
    "# classes\n",
    "\n",
    "class PreNorm(nn.Module):\n",
    "    def __init__(self, dim, fn):\n",
    "        super().__init__()\n",
    "        self.norm = nn.LayerNorm(dim)\n",
    "        self.fn = fn\n",
    "    def forward(self, x, **kwargs):\n",
    "        return self.fn(self.norm(x), **kwargs)\n",
    "\n",
    "class FeedForward(nn.Module):\n",
    "    def __init__(self, dim, hidden_dim, dropout = 0.):\n",
    "        super().__init__()\n",
    "        self.net = nn.Sequential(\n",
    "            nn.Linear(dim, hidden_dim),\n",
    "            nn.GELU(),\n",
    "            nn.Dropout(dropout),\n",
    "            nn.Linear(hidden_dim, dim),\n",
    "            nn.Dropout(dropout)\n",
    "        )\n",
    "    def forward(self, x):\n",
    "        return self.net(x)\n",
    "\n",
    "class Attention(nn.Module):\n",
    "    def __init__(self, dim, heads = 8, dim_head = 64, dropout = 0.):\n",
    "        super().__init__()\n",
    "        inner_dim = dim_head *  heads\n",
    "        project_out = not (heads == 1 and dim_head == dim)\n",
    "               \n",
    "        self.heads = heads\n",
    "        self.scale = dim_head ** -0.5\n",
    "\n",
    "        self.attend = nn.Softmax(dim = -1)\n",
    "        self.to_qkv = nn.Linear(dim, inner_dim * 3, bias = False)\n",
    "\n",
    "        self.to_out = nn.Sequential(\n",
    "            nn.Linear(inner_dim, dim),\n",
    "            nn.Dropout(dropout)\n",
    "        ) if project_out else nn.Identity()\n",
    "\n",
    "    def forward(self, x):\n",
    "        b, n, _, h = *x.shape, self.heads\n",
    "        qkv = self.to_qkv(x)\n",
    "        qkv = qkv.chunk(3, dim = -1)\n",
    "        q, k, v = map(lambda t: rearrange(t, 'b n (h d) -> b h n d', h = h), qkv)\n",
    "\n",
    "        dots = einsum('b h i d, b h j d -> b h i j', q, k) * self.scale\n",
    "\n",
    "        attn = self.attend(dots)\n",
    "\n",
    "        out = einsum('b h i j, b h j d -> b h i d', attn, v)\n",
    "        out = rearrange(out, 'b h n d -> b n (h d)')\n",
    "        return self.to_out(out)\n",
    "\n",
    "class Transformer(nn.Module):\n",
    "    def __init__(self, dim, depth, heads, dim_head, mlp_dim, dropout = 0.):\n",
    "        super().__init__()\n",
    "        self.layers = nn.ModuleList([])\n",
    "        for _ in range(depth):\n",
    "            self.layers.append(nn.ModuleList([\n",
    "                PreNorm(dim, Attention(dim, heads = heads, dim_head = dim_head, dropout = dropout)),\n",
    "                PreNorm(dim, FeedForward(dim, mlp_dim, dropout = dropout))\n",
    "            ]))\n",
    "    def forward(self, x):\n",
    "        for attn, ff in self.layers:\n",
    "            x = attn(x) + x\n",
    "            x = ff(x) + x\n",
    "        return x\n",
    "\n",
    "class ViT(nn.Module):\n",
    "    def __init__(self, *, image_size, patch_size, num_classes, dim, depth, heads, mlp_dim, pool = 'cls', channels = 3, dim_head = 64, dropout = 0., emb_dropout = 0., use_cls_token=True):\n",
    "        super().__init__()\n",
    "        image_height, image_width = pair(image_size)\n",
    "        patch_height, patch_width = pair(patch_size)\n",
    "\n",
    "        assert image_height % patch_height == 0 and image_width % patch_width == 0, 'Image dimensions must be divisible by the patch size.'\n",
    "\n",
    "        num_patches = (image_height // patch_height) * (image_width // patch_width)\n",
    "        patch_dim = channels * patch_height * patch_width\n",
    "        assert pool in {'cls', 'mean'}, 'pool type must be either cls (cls token) or mean (mean pooling)'\n",
    "\n",
    "        self.to_patch_embedding = nn.Sequential(\n",
    "            Rearrange('b c (h p1) (w p2) -> b (h w) (p1 p2 c)', p1 = patch_height, p2 = patch_width),\n",
    "            nn.Linear(patch_dim, dim),\n",
    "        )\n",
    "\n",
    "        #self.pos_embedding = nn.Parameter(torch.randn(1, num_patches + 1, dim))\n",
    "        self.use_cls_token = use_cls_token\n",
    "        if self.use_cls_token:\n",
    "            self.pos_embedding = nn.Parameter(torch.empty(1, num_patches + 1, dim))\n",
    "        else:\n",
    "            self.pos_embedding = nn.Parameter(torch.empty(1, num_patches, dim))\n",
    "        #nn.init.kaiming_uniform_(self.pos_embedding, a=5 ** .5)\n",
    "        nn.init.normal_(self.pos_embedding, std=.02)\n",
    "\n",
    "        #self.cls_token = nn.Parameter(torch.randn(1, 1, dim))\n",
    "        self.cls_token = nn.Parameter(torch.empty(1, 1, dim))\n",
    "        nn.init.zeros_(self.cls_token)\n",
    "        \n",
    "        self.dropout = nn.Dropout(emb_dropout)\n",
    "\n",
    "        self.transformer = Transformer(dim, depth, heads, dim_head, mlp_dim, dropout)\n",
    "\n",
    "        self.pool = pool\n",
    "        self.to_latent = nn.Identity()\n",
    "\n",
    "        self.mlp_head = nn.Sequential(\n",
    "            nn.LayerNorm(dim),\n",
    "            nn.Linear(dim, num_classes)\n",
    "        )\n",
    "\n",
    "    def forward(self, img):\n",
    "        # MACs: patch_size * n_patches * dim, es (30 * 14) * 10 * 300\n",
    "        x = self.to_patch_embedding(img)\n",
    "        b, n, _ = x.shape\n",
    "        \n",
    "        if self.use_cls_token:\n",
    "            cls_tokens = repeat(self.cls_token, '() n d -> b n d', b = b)\n",
    "            x = torch.cat((cls_tokens, x), dim=1)\n",
    "            x += self.pos_embedding[:, :(n + 1)]\n",
    "        else :\n",
    "            x += self.pos_embedding\n",
    "        \n",
    "        x = self.dropout(x)\n",
    "        \n",
    "        # FeedForward    Attention       project out\n",
    "        # 300*300*10*2 + 300*(64*3)*10 + ((64)*300*10)\n",
    "        # Attention -> manca softmax e attention vera e propria, c'è solo linear encoding a qkv\n",
    "        x = self.transformer(x)\n",
    "\n",
    "        x = x.mean(dim = 1) if self.pool == 'mean' else x[:, 0]\n",
    "        \n",
    "        x = self.to_latent(x)\n",
    "        x = self.mlp_head(x)\n",
    "        return x"
   ]
  },
  {
   "cell_type": "code",
   "execution_count": 35,
   "metadata": {},
   "outputs": [],
   "source": [
    "import torch\n",
    "from torch import nn\n",
    "\n",
    "# Formula: https://pytorch.org/docs/stable/generated/torch.nn.Conv1d.html#torch.nn.Conv1d\n",
    "def get_conv_output_size(input_size, kernel_size, stride=1, padding=0, dilation=1, **ignore):\n",
    "    tuple_to_int = lambda x: int(x[0]) if isinstance(x, tuple) else int(x)\n",
    "    kernel_size, stride, padding, dilation = tuple_to_int(kernel_size), tuple_to_int(stride), tuple_to_int(padding), tuple_to_int(dilation)\n",
    "    return int( ( (input_size + 2 * padding - dilation * (kernel_size - 1) - 1) / stride) + 1 )\n",
    "\n",
    "class TEMPONet(nn.Module):\n",
    "    \n",
    "    def __init__(self, n_classes, input_size=300, input_channels=14):\n",
    "        super().__init__()\n",
    "\n",
    "        self.conv1 = nn.Sequential(\n",
    "            nn.Conv1d(input_channels, 32, 3, dilation=2, padding=2),\n",
    "            nn.BatchNorm1d(32),\n",
    "            nn.ReLU(),\n",
    "            nn.Conv1d(32, 32, 3, dilation=2, padding=2),\n",
    "            nn.BatchNorm1d(32),\n",
    "            nn.ReLU(),\n",
    "            nn.Conv1d(32, 64, 5, stride=1, padding=2),\n",
    "            torch.nn.AvgPool1d(2, stride=2, padding=0),\n",
    "            nn.BatchNorm1d(64),\n",
    "            nn.ReLU(),\n",
    "        )\n",
    "\n",
    "        self.conv2 = nn.Sequential(\n",
    "            nn.Conv1d(64, 64, 3, dilation=4, padding=4),\n",
    "            nn.BatchNorm1d(64),\n",
    "            nn.ReLU(),\n",
    "            nn.Conv1d(64, 64, 3, dilation=4, padding=4),\n",
    "            nn.BatchNorm1d(64),\n",
    "            nn.ReLU(),\n",
    "            nn.Conv1d(64, 128, 5, stride=2, padding=2),\n",
    "            torch.nn.AvgPool1d(2, stride=2, padding=0),\n",
    "            nn.BatchNorm1d(128),\n",
    "            nn.ReLU(),\n",
    "        )\n",
    "\n",
    "        self.conv3 = nn.Sequential(\n",
    "            nn.Conv1d(128, 128, 3, dilation=8, padding=8),\n",
    "            nn.BatchNorm1d(128),\n",
    "            nn.ReLU(),\n",
    "            nn.Conv1d(128, 128, 3, dilation=8, padding=8),\n",
    "            nn.BatchNorm1d(128),\n",
    "            nn.ReLU(),\n",
    "            nn.Conv1d(128, 128, 5, stride=4, padding=2),\n",
    "            torch.nn.AvgPool1d(2, stride=2, padding=0),\n",
    "            nn.BatchNorm1d(128),\n",
    "            nn.ReLU(),\n",
    "        )\n",
    "        \n",
    "        def get_fc_input_size():\n",
    "            is_layer_conv = lambda x: isinstance(x, nn.Conv1d) or isinstance(x, nn.AvgPool1d)\n",
    "            layers = list(filter(is_layer_conv, [*self.conv1, *self.conv2, *self.conv3]))\n",
    "            \n",
    "            output_size = input_size\n",
    "            last_layer_output_planes = 1\n",
    "            for layer in layers:\n",
    "                output_size = get_conv_output_size(output_size, **vars(layer))\n",
    "                last_layer_output_planes = layer.out_channels if hasattr(layer, \"out_channels\") else last_layer_output_planes\n",
    "            \n",
    "            return output_size * last_layer_output_planes\n",
    "\n",
    "        self.fc = nn.Sequential(\n",
    "            nn.Linear(get_fc_input_size(), 256), # input=640\n",
    "            nn.BatchNorm1d(256),\n",
    "            nn.ReLU(),\n",
    "            nn.Dropout(0.5),\n",
    "            \n",
    "            nn.Linear(256, 128),\n",
    "            nn.BatchNorm1d(128),\n",
    "            nn.ReLU(),\n",
    "            nn.Dropout(0.5),\n",
    "            \n",
    "            nn.Linear(128, n_classes),\n",
    "        )\n",
    "        \n",
    "\n",
    "    def forward(self, x):\n",
    "\n",
    "        x = self.conv1(x)\n",
    "        x = self.conv2(x)\n",
    "        x = self.conv3(x)\n",
    "        \n",
    "        x = x.flatten(1)\n",
    "\n",
    "        x = self.fc(x)\n",
    "        \n",
    "        return x"
   ]
  }
 ],
 "metadata": {
  "kernelspec": {
   "display_name": "Python 3",
   "language": "python",
   "name": "python3"
  },
  "language_info": {
   "codemirror_mode": {
    "name": "ipython",
    "version": 3
   },
   "file_extension": ".py",
   "mimetype": "text/x-python",
   "name": "python",
   "nbconvert_exporter": "python",
   "pygments_lexer": "ipython3",
   "version": "3.7.5"
  }
 },
 "nbformat": 4,
 "nbformat_minor": 2
}
