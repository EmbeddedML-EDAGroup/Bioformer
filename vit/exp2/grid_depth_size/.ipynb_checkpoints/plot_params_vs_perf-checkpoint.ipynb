{
 "cells": [
  {
   "cell_type": "code",
   "execution_count": 1,
   "id": "hispanic-office",
   "metadata": {},
   "outputs": [],
   "source": [
    "from pickle import load\n",
    "import numpy as np\n",
    "import pandas as pd\n",
    "import matplotlib.pyplot as plt"
   ]
  },
  {
   "cell_type": "code",
   "execution_count": 2,
   "id": "combined-afternoon",
   "metadata": {},
   "outputs": [],
   "source": [
    "src, configs, n_params_, losses_accs_ = load(open('train_projection=64_epochs=100_lr=5e-4_sess=1.pickle', 'rb'))\n",
    "srcf, configsf, n_params_f, losses_accs_f = load(open('train_projection=full_epochs=100_lr=5e-4_sess=1.pickle', 'rb'))"
   ]
  },
  {
   "cell_type": "code",
   "execution_count": 3,
   "id": "least-baptist",
   "metadata": {},
   "outputs": [],
   "source": [
    "losses_accs_df = list(map(lambda x: pd.DataFrame(x), losses_accs_))\n",
    "losses_accs_fdf = list(map(lambda x: pd.DataFrame(x), losses_accs_f))"
   ]
  },
  {
   "cell_type": "code",
   "execution_count": 42,
   "id": "collaborative-treaty",
   "metadata": {},
   "outputs": [],
   "source": [
    "def attention_head(n_tokens, dim, dim_head):\n",
    "    macs = 0\n",
    "    \n",
    "    # token -> k, q, v\n",
    "    macs += n_tokens * 3 * dim * dim_head\n",
    "    \n",
    "    # q * k'\n",
    "    # (n_tokens, dim_head) * (dim_head, n_tokens) -> (n_tokens, n_tokens)\n",
    "    macs += n_tokens * dim_head * n_tokens\n",
    "    \n",
    "    # Softmax e diviso sqrt(dim_head) \n",
    "    # ...\n",
    "    \n",
    "    # (q * k') * v\n",
    "    # (n_tokens, n_tokens) * (n_tokens, dim_head) -> (n_tokens, dim_head)\n",
    "    macs += n_tokens * n_tokens * dim_head\n",
    "    \n",
    "    return macs\n",
    "    \n",
    "def attention(n_tokens, dim, dim_head, n_heads):\n",
    "    macs = 0\n",
    "    \n",
    "    macs += n_heads * attention_head(n_tokens, dim, dim_head)\n",
    "    \n",
    "    # Riporta gli z concatenati a dimensione dim\n",
    "    macs += n_tokens * (dim_head * n_heads) * dim if not (n_heads == 1 and dim_head == dim) else 0\n",
    "    \n",
    "    return macs\n",
    "\n",
    "def feed_forward(n_tokens, dim, mlp_dim):\n",
    "    # 2 Linear: dim -> mlp_dim, mlp_dim -> dim\n",
    "    return n_tokens * dim * mlp_dim * 2\n",
    "\n",
    "def MACs_ratio(image_size, patch_size, dim, dim_head, heads, mlp_dim, **ignore):\n",
    "    n_tokens = image_size[-1] // patch_size[-1] + 1\n",
    "    a = attention(n_tokens, dim, dim_head, heads)\n",
    "    f = feed_forward(n_tokens, dim, mlp_dim)\n",
    "    \n",
    "    return a / (f+a)"
   ]
  },
  {
   "cell_type": "code",
   "execution_count": 43,
   "id": "recreational-treasury",
   "metadata": {},
   "outputs": [
    {
     "data": {
      "text/plain": [
       "<matplotlib.collections.PathCollection at 0x1c463a105c8>"
      ]
     },
     "execution_count": 43,
     "metadata": {},
     "output_type": "execute_result"
    },
    {
     "data": {
      "image/png": "[encoded data removed]",
      "text/plain": [
       "<Figure size 432x288 with 1 Axes>"
      ]
     },
     "metadata": {
      "needs_background": "light"
     },
     "output_type": "display_data"
    }
   ],
   "source": [
    "macs_ratios = [MACs_ratio(**config) for config in configs]\n",
    "plt.scatter(list(map(lambda x: f\"{x:.2f}\", macs_ratios)), [losses_accs_df[i].val_acc.max() for i in range(len(losses_accs_df))])"
   ]
  },
  {
   "cell_type": "code",
   "execution_count": 44,
   "id": "electrical-salad",
   "metadata": {},
   "outputs": [
    {
     "data": {
      "text/plain": [
       "<matplotlib.collections.PathCollection at 0x1c463a72748>"
      ]
     },
     "execution_count": 44,
     "metadata": {},
     "output_type": "execute_result"
    },
    {
     "data": {
      "image/png": "[encoded data removed]",
      "text/plain": [
       "<Figure size 432x288 with 1 Axes>"
      ]
     },
     "metadata": {
      "needs_background": "light"
     },
     "output_type": "display_data"
    }
   ],
   "source": [
    "macs_ratios = [MACs_ratio(**config) for config in configsf]\n",
    "plt.scatter(list(map(lambda x: f\"{x:.2f}\", macs_ratios)), [losses_accs_df[i].val_acc.max() for i in range(len(losses_accs_fdf))])"
   ]
  },
  {
   "cell_type": "code",
   "execution_count": 47,
   "id": "complete-stability",
   "metadata": {},
   "outputs": [],
   "source": [
    "def params_ratio(image_size, patch_size, dim, dim_head, heads, mlp_dim, **ignore):\n",
    "    n_tokens = image_size[-1] // patch_size[-1] + 1\n",
    "    \n",
    "    a = 3 * dim * dim_head\n",
    "    \n",
    "    f = (dim_head * heads) * dim + dim * mlp_dim * 2\n",
    "    \n",
    "    return a / (f+a)"
   ]
  },
  {
   "cell_type": "code",
   "execution_count": 48,
   "id": "distinct-divorce",
   "metadata": {},
   "outputs": [
    {
     "data": {
      "text/plain": [
       "<matplotlib.collections.PathCollection at 0x1c4639bfa88>"
      ]
     },
     "execution_count": 48,
     "metadata": {},
     "output_type": "execute_result"
    },
    {
     "data": {
      "image/png": "[encoded data removed]",
      "text/plain": [
       "<Figure size 432x288 with 1 Axes>"
      ]
     },
     "metadata": {
      "needs_background": "light"
     },
     "output_type": "display_data"
    }
   ],
   "source": [
    "params_ratios = [params_ratio(**config) for config in configs]\n",
    "plt.scatter(list(map(lambda x: f\"{x:.2f}\", params_ratios)), [losses_accs_df[i].val_acc.max() for i in range(len(losses_accs_df))])"
   ]
  },
  {
   "cell_type": "code",
   "execution_count": 49,
   "id": "cutting-laptop",
   "metadata": {},
   "outputs": [
    {
     "data": {
      "text/plain": [
       "<matplotlib.collections.PathCollection at 0x1c464b040c8>"
      ]
     },
     "execution_count": 49,
     "metadata": {},
     "output_type": "execute_result"
    },
    {
     "data": {
      "image/png": "[encoded data removed]",
      "text/plain": [
       "<Figure size 432x288 with 1 Axes>"
      ]
     },
     "metadata": {
      "needs_background": "light"
     },
     "output_type": "display_data"
    }
   ],
   "source": [
    "params_ratios = [params_ratio(**config) for config in configsf]\n",
    "plt.scatter(list(map(lambda x: f\"{x:.2f}\", params_ratios)), [losses_accs_df[i].val_acc.max() for i in range(len(losses_accs_fdf))])"
   ]
  }
 ],
 "metadata": {
  "kernelspec": {
   "display_name": "Python 3",
   "language": "python",
   "name": "python3"
  },
  "language_info": {
   "codemirror_mode": {
    "name": "ipython",
    "version": 3
   },
   "file_extension": ".py",
   "mimetype": "text/x-python",
   "name": "python",
   "nbconvert_exporter": "python",
   "pygments_lexer": "ipython3",
   "version": "3.7.5"
  }
 },
 "nbformat": 4,
 "nbformat_minor": 5
}
