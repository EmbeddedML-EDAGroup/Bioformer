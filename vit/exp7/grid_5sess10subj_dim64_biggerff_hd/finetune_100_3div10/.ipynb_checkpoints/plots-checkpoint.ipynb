{
 "cells": [
  {
   "cell_type": "code",
   "execution_count": 2,
   "metadata": {},
   "outputs": [
    {
     "ename": "IndexError",
     "evalue": "list index out of range",
     "output_type": "error",
     "traceback": [
      "\u001b[1;31m---------------------------------------------------------------------------\u001b[0m",
      "\u001b[1;31mIndexError\u001b[0m                                Traceback (most recent call last)",
      "\u001b[1;32m<ipython-input-2-8715885774e1>\u001b[0m in \u001b[0;36m<module>\u001b[1;34m\u001b[0m\n\u001b[0;32m      6\u001b[0m     \u001b[0mtrainings\u001b[0m\u001b[1;33m.\u001b[0m\u001b[0mappend\u001b[0m\u001b[1;33m(\u001b[0m\u001b[0mload\u001b[0m\u001b[1;33m(\u001b[0m\u001b[0mopen\u001b[0m\u001b[1;33m(\u001b[0m\u001b[0mfile\u001b[0m\u001b[1;33m,\u001b[0m \u001b[1;34m'rb'\u001b[0m\u001b[1;33m)\u001b[0m\u001b[1;33m)\u001b[0m\u001b[1;33m)\u001b[0m\u001b[1;33m\u001b[0m\u001b[1;33m\u001b[0m\u001b[0m\n\u001b[0;32m      7\u001b[0m \u001b[1;33m\u001b[0m\u001b[0m\n\u001b[1;32m----> 8\u001b[1;33m \u001b[0mtrainings\u001b[0m \u001b[1;33m=\u001b[0m \u001b[0mtrainings\u001b[0m\u001b[1;33m[\u001b[0m\u001b[1;36m0\u001b[0m\u001b[1;33m]\u001b[0m\u001b[1;33m\u001b[0m\u001b[1;33m\u001b[0m\u001b[0m\n\u001b[0m",
      "\u001b[1;31mIndexError\u001b[0m: list index out of range"
     ]
    }
   ],
   "source": [
    "import glob\n",
    "from pickle import load\n",
    "trainings = list()\n",
    "filelist = list(glob.glob('results*.pickle'))\n",
    "for file in filelist:\n",
    "    trainings.append(load(open(file, 'rb')))\n",
    "\n",
    "trainings = trainings[0]"
   ]
  },
  {
   "cell_type": "code",
   "execution_count": null,
   "metadata": {},
   "outputs": [],
   "source": [
    "pretrainings = sorted({x['pretrained'] for x in trainings[0]})\n",
    "configs, results_ = trainings"
   ]
  },
  {
   "cell_type": "code",
   "execution_count": null,
   "metadata": {
    "scrolled": false
   },
   "outputs": [],
   "source": [
    "# Problemi:\n",
    "# - preso modello ultima epoca e non il migliore\n",
    "# - val acc calcolata sempre su steady e non anche su non steady\n",
    "import numpy as np\n",
    "import matplotlib as mpl\n",
    "import matplotlib.pyplot as plt\n",
    "\n",
    "heads = [2, 4, 8]\n",
    "depth = [1, 2, 4, 8,]\n",
    "\n",
    "scores_val = np.zeros((3, 4))\n",
    "scores_test = np.zeros((3, 4))\n",
    "\n",
    "for pretraining in pretrainings:\n",
    "    \n",
    "    acccs = []\n",
    "    acccs_steady = []\n",
    "    \n",
    "    mpl.rcParams['axes.prop_cycle'] = mpl.cycler(\"color\", [\"#000000\", '#000000'])\n",
    "    fix, (ax1, ax2) = plt.subplots(figsize=(14, 4), ncols=2)\n",
    "    ax1.grid(True)\n",
    "    ax2.grid(True)\n",
    "    ax1.set_title(\"Test on steady+transient\")\n",
    "    ax2.set_title(\"Test on steady\")\n",
    "    \n",
    "    chosen_config = None\n",
    "    \n",
    "    for n_idx, (config, r) in enumerate(zip(configs, results_)):\n",
    "                \n",
    "        if config[\"pretrained\"] != pretraining:\n",
    "            continue\n",
    "                        \n",
    "        chosen_config = config\n",
    "\n",
    "        accs = np.array([0] * len(r['test_sessions']), dtype=float)\n",
    "        for i, (y_pred, y_true) in enumerate(zip(r['val-fold_0']['y_preds'], r['val-fold_0']['y_trues'])):\n",
    "            accs[i] += (y_pred == y_true).sum().float() / len(y_true)\n",
    "        for i, (y_pred, y_true) in enumerate(zip(r['val-fold_1']['y_preds'], r['val-fold_1']['y_trues'])):\n",
    "            accs[i] += (y_pred == y_true).sum().float() / len(y_true)\n",
    "        accs /= 2\n",
    "\n",
    "        accs_steady = np.array([0] * len(r['test_sessions']), dtype=float)\n",
    "        for i, (y_pred, y_true) in enumerate(zip(r['val-fold_0']['y_preds_steady'], r['val-fold_0']['y_trues_steady'])):\n",
    "            accs_steady[i] += (y_pred == y_true).sum().float() / len(y_true)\n",
    "        for i, (y_pred, y_true) in enumerate(zip(r['val-fold_1']['y_preds_steady'], r['val-fold_1']['y_trues_steady'])):\n",
    "            accs_steady[i] += (y_pred == y_true).sum().float() / len(y_true)\n",
    "        accs_steady /= 2\n",
    "\n",
    "        #acc_val = .5 * r['val-fold_0']['losses_accs'][-1]['val_acc'] + .5 * r['val-fold_1']['losses_accs'][-1]['val_acc']\n",
    "        acc_val =  r['val-fold_0']['losses_accs'][-1]['val_acc']\n",
    "\n",
    "        y = [acc_val] + [a for a in accs]\n",
    "        acccs.append(y)\n",
    "\n",
    "        y = [acc_val] + [a for a in accs_steady]\n",
    "        acccs_steady.append(y)\n",
    "                \n",
    "\n",
    "    acccs = np.array(acccs).mean(axis=0)\n",
    "    acccs_steady = np.array(acccs_steady).mean(axis=0)\n",
    "\n",
    "    x = [r['test_sessions'][0]] + [a for a in np.array(r['test_sessions']) + 1]\n",
    "    y1 = [a for a in acccs]\n",
    "    y2 = [a for a in acccs_steady]\n",
    "    m = ['d'] + (['o'] * (len(x) - 1))\n",
    "    s = [200] + [50] * (len(x) - 1)\n",
    "\n",
    "    ax1.plot(x, y1, color=f'C{n_idx}')\n",
    "    for xp, yp, m_, s_ in zip(x, y1, m, s):\n",
    "        ax1.scatter([xp],[float(yp)], marker=m_, s=s_, color=f'C{n_idx}')\n",
    "\n",
    "    ax2.plot(x, y2, color=f'C{n_idx}')\n",
    "    for xp, yp, m_, s_ in zip(x, y2, m, s):\n",
    "        ax2.scatter([xp],[float(yp)], marker=m_, s=s_, color=f'C{n_idx}')\n",
    "        \n",
    "        \n",
    "    (min1, max1), (min2, max2) = ax1.get_ylim(), ax2.get_ylim()\n",
    "    min_ = min(min1, min2)\n",
    "    max_ = max(max1, max2)\n",
    "    ax1.set_ylim((min_, max_))\n",
    "    ax2.set_ylim((min_, max_))\n",
    "\n",
    "    ax1.xaxis.set_major_locator(mpl.ticker.MultipleLocator(1))\n",
    "    ax2.xaxis.set_major_locator(mpl.ticker.MultipleLocator(1))\n",
    "    ax1.set_xlabel(\"session\")\n",
    "    ax2.set_xlabel(\"session\")\n",
    "    ax1.set_ylabel(\"accuracy\")\n",
    "\n",
    "    print(chosen_config['heads'], chosen_config['depth'], np.array(acccs_steady)[1:].mean(), acccs_steady[0])\n",
    "    \n",
    "    scores_val[heads.index(chosen_config[\"heads\"]), depth.index(chosen_config[\"depth\"])] = acccs_steady[0]\n",
    "    scores_test[heads.index(chosen_config[\"heads\"]), depth.index(chosen_config[\"depth\"])] = np.array(acccs_steady)[1:].mean()\n",
    "    \n",
    "    plt.show()"
   ]
  },
  {
   "cell_type": "code",
   "execution_count": null,
   "metadata": {},
   "outputs": [],
   "source": [
    "import matplotlib.pyplot as plt\n",
    "import matplotlib.ticker as ticker\n",
    "\n",
    "fig, axes = plt.subplots(figsize=(8*2, 4), ncols=2)\n",
    "print(scores_test)\n",
    "for idx, scores in enumerate([scores_val, scores_test]):\n",
    "    ax = axes[idx]\n",
    "    m = ax.imshow(scores, interpolation='nearest',  vmin=.5, vmax=.85)#cmap=plt.cm.hot)\n",
    "    ax.set_ylabel('heads')\n",
    "    ax.set_xlabel('depth')\n",
    "\n",
    "    ax.yaxis.set_major_locator(ticker.FixedLocator(np.arange(len(heads))))\n",
    "    ax.yaxis.set_major_formatter(ticker.FixedFormatter(heads))\n",
    "    ax.xaxis.set_major_locator(ticker.FixedLocator(np.arange(len(depth))))\n",
    "    ax.xaxis.set_major_formatter(ticker.FixedFormatter(depth))\n",
    "\n",
    "    #ax.set_title(f'{\"Training\" if idx % 2 == 0 else \"Test\"}\\ndim_head={dim_head},dim={64 if idx < 2 else 14*20}\\nhidden=2*dim')\n",
    "    ax.set_title('Validation (media sulle prime 5 sessioni)' if idx == 0 else 'Test (media sulle ultime 5 sessioni)')\n",
    "    for i in range(len(heads)):\n",
    "        for j in range(len(depth)):\n",
    "            text = ax.text(j, i, f\"{scores[i, j]*100:.2f}%\",\n",
    "                           ha=\"center\", va=\"center\", color=\"w\")"
   ]
  },
  {
   "cell_type": "code",
   "execution_count": null,
   "metadata": {
    "scrolled": false
   },
   "outputs": [],
   "source": [
    "for pretraining in pretrainings:\n",
    "    print(pretraining)\n",
    "    for n_idx, (config, r) in enumerate(zip(configs, results_)):\n",
    "        if config[\"pretrained\"] != pretraining:\n",
    "            continue\n",
    "        plt.plot([r['val-fold_0']['losses_accs'][i]['val_acc'] for i in range(20)])    \n",
    "    plt.show()"
   ]
  }
 ],
 "metadata": {
  "kernelspec": {
   "display_name": "Python 3",
   "language": "python",
   "name": "python3"
  },
  "language_info": {
   "codemirror_mode": {
    "name": "ipython",
    "version": 3
   },
   "file_extension": ".py",
   "mimetype": "text/x-python",
   "name": "python",
   "nbconvert_exporter": "python",
   "pygments_lexer": "ipython3",
   "version": "3.7.5"
  }
 },
 "nbformat": 4,
 "nbformat_minor": 2
}
